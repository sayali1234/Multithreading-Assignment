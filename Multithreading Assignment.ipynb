{
 "cells": [
  {
   "cell_type": "code",
   "execution_count": null,
   "id": "d1780ed6-7e8d-4595-b6c0-f6f5f4122c45",
   "metadata": {},
   "outputs": [],
   "source": [
    "Q1) What is multithreading in python? Why is it used? Name the module used to handle threads in python.\n",
    "Ans: Multithreading refers to concurrently executing multiple threads by rapidly switching the control of the CPU between threads.\n",
    "     Python multithreading enables efficient utilization of the resourses as the threads share and data space and memory.\n",
    "     Threading Mdule is used to handle threads in python."
   ]
  },
  {
   "cell_type": "code",
   "execution_count": null,
   "id": "128c2a21-6c6a-44b1-8537-a7a18a42e18a",
   "metadata": {},
   "outputs": [],
   "source": [
    "Q2) Why threading module used? Write the use of the following functions\n",
    "   1. activeCount()\n",
    "   2. currentThread()\n",
    "   3. enumerate()\n",
    "Ans: Python threading allows you to have different parts of your program run concurrently and can simplify your design.\n",
    "    1.activeCount() : Returns the number of thread objects that are active. \n",
    "    2. currentThread() :  Returns the number of thread objects in the caller's thread control.\n",
    "    3. enemurate() :  The enumerate() function takes a collection and returns it as an enumerate object. The enumerate() function adds a counter\n",
    "      as the key of the enumerate object."
   ]
  },
  {
   "cell_type": "code",
   "execution_count": null,
   "id": "ca118f63-2026-455a-ad35-6272019d3b4a",
   "metadata": {},
   "outputs": [],
   "source": [
    "Q4) Explain the following functions:\n",
    " 1.run()\n",
    " 2.start()\n",
    " 3.join()\n",
    " 4.isAlive()\n",
    "Ans: 1)run() : run() method is an inbuilt method of the Thread class of the Threading module in python.This method is used to represent thread's activity.\n",
    "     2)start() : start() method is an inbuilt method of the Thread class of the threading module in Python. It is used to start a thread's activity. This method\n",
    "       calls the run() method internally which then executes the target method. \n",
    "     3)join() : The join() method takes all items in an iterable and joins them into one string. A string must be specified as the separator.\n",
    "     4) isAlive() : isAlive() method is an inbuilt method of the Thread class of the threading module in Python. It uses a Thread object, and checks whether that\n",
    "        thread is alive or not, ie, it is still running or not. "
   ]
  },
  {
   "cell_type": "code",
   "execution_count": null,
   "id": "28c59e84-33e8-48a3-a225-9e12d9295d87",
   "metadata": {},
   "outputs": [],
   "source": [
    "Q4) Write a python program to create two threads. Thread one must print the list of squares and thread two must print the list of cubes.\n",
    "Ans: for list of squares : import threading"
   ]
  },
  {
   "cell_type": "code",
   "execution_count": null,
   "id": "c622e27e-87dc-4296-8fbd-5047ab9fe7e3",
   "metadata": {},
   "outputs": [],
   "source": [
    "Q5) State advantages and disadvantages of multithreading.\n",
    "Ans: Advantages of multithreading : Multithreading allows the execution of multiple parts of a program at the same time.So multithreading leads to maximum \n",
    "     utilization of the CPU by multitasking.\n",
    "     Disadvantage of multithreading : Multithread applications are not easy to write.Difficulty of debugging,Difficulty of managing concurrency,Difficulty of\n",
    "        testing,Difficulty of porting existing code."
   ]
  },
  {
   "cell_type": "code",
   "execution_count": null,
   "id": "ef766f5c-c3ab-49b4-854c-1f7ff908dd5e",
   "metadata": {},
   "outputs": [],
   "source": [
    "Q6) Explain deadlocks and race conditions.\n",
    "Ans: A deadlock is a situation in which more than one process is blocked because it is holding a resource and also requires some resource that is\n",
    "     acquired by some other process. \n",
    "     Race conditions occur when two threads interact in a negative (buggy) way depending on the exact order that their different instructions are executed."
   ]
  },
  {
   "cell_type": "code",
   "execution_count": 1,
   "id": "810a95d7-808d-492b-b49f-36b5922f05eb",
   "metadata": {},
   "outputs": [],
   "source": []
  },
  {
   "cell_type": "code",
   "execution_count": 2,
   "id": "61d90576-7351-484c-b65a-fbc4a26050be",
   "metadata": {},
   "outputs": [],
   "source": [
    "def print_square():\n",
    "    for i in range(100)\n",
    "    print("
   ]
  },
  {
   "cell_type": "code",
   "execution_count": null,
   "id": "181657a8-ebbb-467f-beb6-bee71e029cf9",
   "metadata": {},
   "outputs": [],
   "source": []
  }
 ],
 "metadata": {
  "kernelspec": {
   "display_name": "Python 3 (ipykernel)",
   "language": "python",
   "name": "python3"
  },
  "language_info": {
   "codemirror_mode": {
    "name": "ipython",
    "version": 3
   },
   "file_extension": ".py",
   "mimetype": "text/x-python",
   "name": "python",
   "nbconvert_exporter": "python",
   "pygments_lexer": "ipython3",
   "version": "3.10.8"
  }
 },
 "nbformat": 4,
 "nbformat_minor": 5
}
